{
 "cells": [
  {
   "cell_type": "code",
   "execution_count": null,
   "metadata": {},
   "outputs": [],
   "source": [
    "en 100'e kadar olan sayıları toplayan bir Python programı yazın ve toplamı ekrana yazdırın."
   ]
  },
  {
   "cell_type": "code",
   "execution_count": 4,
   "metadata": {},
   "outputs": [
    {
     "data": {
      "text/plain": [
       "[range(1, 100)]"
      ]
     },
     "execution_count": 4,
     "metadata": {},
     "output_type": "execute_result"
    }
   ],
   "source": [
    "liste = [(range(1,100))]\n",
    "liste"
   ]
  },
  {
   "cell_type": "code",
   "execution_count": 8,
   "metadata": {},
   "outputs": [
    {
     "name": "stdout",
     "output_type": "stream",
     "text": [
      "toplam listenin degeri:5050\n"
     ]
    }
   ],
   "source": [
    "toplam = 0\n",
    "\n",
    "toplam_rakam = []\n",
    "\n",
    "i = 1 \n",
    "\n",
    "while i <= 100 :\n",
    "    toplam_rakam.append(i)\n",
    "    toplam += i\n",
    "    i += 1\n",
    "print(f\"toplam listenin degeri:{toplam}\")\n",
    "    \n"
   ]
  },
  {
   "cell_type": "markdown",
   "metadata": {},
   "source": [
    "Bir liste içindeki en büyük ve en küçük sayıları bulan bir Python programı yazın."
   ]
  },
  {
   "cell_type": "code",
   "execution_count": 16,
   "metadata": {},
   "outputs": [
    {
     "name": "stdout",
     "output_type": "stream",
     "text": [
      "[0]\n",
      "[0]\n",
      "[0]\n",
      "[0]\n",
      "[0]\n",
      "[0]\n",
      "[0]\n",
      "[0]\n",
      "[0]\n",
      "[0]\n",
      "[0]\n",
      "[0]\n"
     ]
    }
   ],
   "source": [
    "liste = [1, 6, 8,675, 54, 98, 34, 97, 34, 64, 312, 43]\n",
    "\n",
    "en_kucuk = [0]\n",
    "en_buyuk = [0]\n",
    "\n",
    "x = 0\n",
    "\n",
    "while x < len(liste):\n",
    "    if liste[x] < en_kucuk\n",
    "    \n",
    "    liste[0] += 1\n",
    "    print(f\"{en_buyuk}\")"
   ]
  },
  {
   "cell_type": "code",
   "execution_count": 18,
   "metadata": {},
   "outputs": [
    {
     "name": "stdout",
     "output_type": "stream",
     "text": [
      "En küçük sayı: 3\n",
      "En büyük sayı: 21\n"
     ]
    }
   ],
   "source": [
    "liste = [10, 5, 7, 21, 3, 14, 9, 18]\n",
    "\n",
    "\n",
    "\n",
    "# En küçük ve en büyük değerleri listenin ilk elemanı olarak başlangıç değeri olarak atıyoruz\n",
    "en_kucuk = liste[0]\n",
    "en_buyuk = liste[0]\n",
    "\n",
    "# Liste boyunca döngü devam ederken en küçük ve en büyük değerleri güncelliyoruz\n",
    "index = 0\n",
    "while index < len(liste):\n",
    "    if liste[index] < en_kucuk:\n",
    "        en_kucuk = liste[index]\n",
    "    elif liste[index] > en_buyuk:\n",
    "        en_buyuk = liste[index]\n",
    "    index += 1\n",
    "\n",
    "# En küçük ve en büyük sayıları ekrana yazdırıyoruz\n",
    "print(\"En küçük sayı:\", en_kucuk)\n",
    "print(\"En büyük sayı:\", en_buyuk)\n"
   ]
  },
  {
   "cell_type": "code",
   "execution_count": null,
   "metadata": {},
   "outputs": [],
   "source": [
    "Bir sayıdan başlayarak belirli bir sayıya kadar olan tüm çift sayıları yazdıran bir Python programı yazın."
   ]
  },
  {
   "cell_type": "code",
   "execution_count": 35,
   "metadata": {},
   "outputs": [
    {
     "name": "stdout",
     "output_type": "stream",
     "text": [
      "bu sayi tektir 1\n",
      "bu sayi tektir 675\n",
      "bu sayi tektir 97\n",
      "bu sayi tektir 43\n"
     ]
    },
    {
     "ename": "IndexError",
     "evalue": "list index out of range",
     "output_type": "error",
     "traceback": [
      "\u001b[0;31m---------------------------------------------------------------------------\u001b[0m",
      "\u001b[0;31mIndexError\u001b[0m                                Traceback (most recent call last)",
      "Cell \u001b[0;32mIn[35], line 10\u001b[0m\n\u001b[1;32m      8\u001b[0m     x \u001b[38;5;241m+\u001b[39m\u001b[38;5;241m=\u001b[39m \u001b[38;5;241m1\u001b[39m \n\u001b[1;32m      9\u001b[0m \u001b[38;5;28;01melse\u001b[39;00m :\n\u001b[0;32m---> 10\u001b[0m     \u001b[38;5;28mprint\u001b[39m(\u001b[38;5;124m\"\u001b[39m\u001b[38;5;124mbanane\u001b[39m\u001b[38;5;124m\"\u001b[39m[\u001b[43mliste\u001b[49m\u001b[43m[\u001b[49m\u001b[43mx\u001b[49m\u001b[43m]\u001b[49m])\n",
      "\u001b[0;31mIndexError\u001b[0m: list index out of range"
     ]
    }
   ],
   "source": [
    "liste = [1, 6, 8,675, 54, 98, 34, 97, 34, 64, 312, 43]\n",
    "\n",
    "x = 0\n",
    "\n",
    "while x < len(liste):\n",
    "    if liste[x] % 2 == 1 :\n",
    "        print(f\"bu sayi tektir {liste[x]}\")\n",
    "    x += 1 \n",
    "else :\n",
    "    print(\"banane\"[liste[x]])"
   ]
  },
  {
   "cell_type": "code",
   "execution_count": 30,
   "metadata": {},
   "outputs": [
    {
     "name": "stdout",
     "output_type": "stream",
     "text": [
      "6 bu sayı çifttir\n",
      "8 bu sayı çifttir\n",
      "54 bu sayı çifttir\n",
      "98 bu sayı çifttir\n",
      "34 bu sayı çifttir\n",
      "34 bu sayı çifttir\n",
      "64 bu sayı çifttir\n",
      "312 bu sayı çifttir\n"
     ]
    }
   ],
   "source": [
    "liste = [1, 6, 8, 675, 54, 98, 34, 97, 34, 64, 312, 43]\n",
    "\n",
    "x = 0\n",
    "\n",
    "while x < len(liste):\n",
    "    if liste[x] % 2 == 0:\n",
    "        print(liste[x], \"bu sayı çifttir\")\n",
    "    x += 1\n"
   ]
  },
  {
   "cell_type": "code",
   "execution_count": null,
   "metadata": {},
   "outputs": [],
   "source": [
    "Bir kullanıcıdan alınan bir sayının tersini yazdıran bir Python programı yazın. Örneğin, 1234 girildiğinde 4321 çıkmalı."
   ]
  },
  {
   "cell_type": "code",
   "execution_count": null,
   "metadata": {},
   "outputs": [],
   "source": [
    "liste = [1, 2, 3, 4, 5]\n",
    "liste.reverse()\n",
    "for eleman in liste:\n",
    "    print(eleman)\n"
   ]
  },
  {
   "cell_type": "code",
   "execution_count": 54,
   "metadata": {},
   "outputs": [
    {
     "ename": "TypeError",
     "evalue": "list.reverse() takes no arguments (1 given)",
     "output_type": "error",
     "traceback": [
      "\u001b[0;31m---------------------------------------------------------------------------\u001b[0m",
      "\u001b[0;31mTypeError\u001b[0m                                 Traceback (most recent call last)",
      "Cell \u001b[0;32mIn[54], line 4\u001b[0m\n\u001b[1;32m      2\u001b[0m liste \u001b[38;5;241m=\u001b[39m[x]\n\u001b[1;32m      3\u001b[0m liste\u001b[38;5;241m.\u001b[39mreverse()\n\u001b[0;32m----> 4\u001b[0m \u001b[38;5;28mprint\u001b[39m(\u001b[38;5;124mf\u001b[39m\u001b[38;5;124m\"\u001b[39m\u001b[38;5;124mterse \u001b[39m\u001b[38;5;132;01m{\u001b[39;00mliste\u001b[38;5;241m.\u001b[39mreverse(x)\u001b[38;5;132;01m}\u001b[39;00m\u001b[38;5;124m\"\u001b[39m)\n",
      "\u001b[0;31mTypeError\u001b[0m: list.reverse() takes no arguments (1 given)"
     ]
    }
   ],
   "source": [
    "\n",
    "\n",
    "x = int(input(\"lutfen 2 haneli bir sayi giriniz\"))\n",
    "liste =[x]\n",
    "liste.reverse()\n",
    "print(f\"terse {liste.reverse(x)}\")\n",
    "\n",
    "    \n"
   ]
  },
  {
   "cell_type": "code",
   "execution_count": null,
   "metadata": {},
   "outputs": [],
   "source": [
    "Bir kullanıcıdan alınan bir metni ters çeviren bir Python programı yazın. Örneğin, \"Merhaba Dünya!\" girildiğinde \"!aynüD abahreM\" çıkmalı."
   ]
  },
  {
   "cell_type": "code",
   "execution_count": 58,
   "metadata": {},
   "outputs": [
    {
     "ename": "AttributeError",
     "evalue": "'str' object has no attribute '__reversed__'",
     "output_type": "error",
     "traceback": [
      "\u001b[0;31m---------------------------------------------------------------------------\u001b[0m",
      "\u001b[0;31mAttributeError\u001b[0m                            Traceback (most recent call last)",
      "Cell \u001b[0;32mIn[58], line 2\u001b[0m\n\u001b[1;32m      1\u001b[0m x \u001b[38;5;241m=\u001b[39m \u001b[38;5;28minput\u001b[39m(\u001b[38;5;124m\"\u001b[39m\u001b[38;5;124mlutfen biseyler yaziniz\u001b[39m\u001b[38;5;124m\"\u001b[39m)\n\u001b[0;32m----> 2\u001b[0m \u001b[38;5;28mprint\u001b[39m(\u001b[43mx\u001b[49m\u001b[38;5;241;43m.\u001b[39;49m\u001b[38;5;21;43m__reversed__\u001b[39;49m())\n",
      "\u001b[0;31mAttributeError\u001b[0m: 'str' object has no attribute '__reversed__'"
     ]
    }
   ],
   "source": [
    "x = input(\"lutfen biseyler yaziniz\")\n",
    "print(x.__reversed__())"
   ]
  },
  {
   "cell_type": "code",
   "execution_count": 96,
   "metadata": {},
   "outputs": [
    {
     "name": "stdout",
     "output_type": "stream",
     "text": [
      "bu siniflar 1\n",
      "bu siniflar 2\n",
      "bu siniflar 3\n",
      "bu siniflar 4\n",
      "bu siniflar 5\n",
      "bu siniflar 6\n",
      "bu siniflar 7\n",
      "bu siniflar 8\n",
      "bu siniflar 9\n",
      "bu siniflar 10\n",
      "bu siniflar 11\n",
      "bu siniflar 12\n",
      "bu siniflar 13\n",
      "bu siniflar 14\n",
      "bu siniflar 15\n"
     ]
    }
   ],
   "source": [
    "sinif = 0 \n",
    "\n",
    "toplam_liste = []\n",
    "\n",
    "while sinif < 15 :\n",
    "    sinif += 1\n",
    "    toplam_liste.append(sinif)\n",
    "    print(f\"bu siniflar {sinif}\")"
   ]
  },
  {
   "cell_type": "code",
   "execution_count": null,
   "metadata": {},
   "outputs": [],
   "source": [
    "Örnek 2: Kullanıcıdan 1 ile 5 arasında bir sayı girmesi isteyiniz. Kullanıcı 3 sayısını girdiğinde break komutu ile döngüden çıkılarak \n",
    "“3 sayısı girildi ve döngü sona erdi” çıktısı veren kodu yazınız."
   ]
  },
  {
   "cell_type": "code",
   "execution_count": 3,
   "metadata": {},
   "outputs": [
    {
     "name": "stdout",
     "output_type": "stream",
     "text": [
      "3 sayisi girildi donguden cikildi\n"
     ]
    }
   ],
   "source": [
    "x = int(input(\"lutfen 1 ile 5 arasinda bir sayi girinioz\"))\n",
    "\n",
    "while x <= 5:\n",
    "    if x == 3 :\n",
    "        print(\"3 sayisi girildi donguden cikildi\")\n",
    "        break\n",
    "    else:\n",
    "        print(\"tekrar deneyiniz\")\n"
   ]
  },
  {
   "cell_type": "code",
   "execution_count": 3,
   "metadata": {},
   "outputs": [
    {
     "name": "stdout",
     "output_type": "stream",
     "text": [
      "3 * 1 = 3\n",
      "3 * 2 = 6\n",
      "3 * 3 = 9\n",
      "3 * 4 = 12\n",
      "3 * 5 = 15\n",
      "3 * 6 = 18\n",
      "3 * 7 = 21\n",
      "3 * 8 = 24\n",
      "3 * 9 = 27\n",
      "3 * 10 = 30\n"
     ]
    }
   ],
   "source": [
    "x = int(input(\"lutfen bir sayi giriniz\"))\n",
    "\n",
    "for i in range(1,11):\n",
    "    print(f\"{x} * {i} = {x * i}\")"
   ]
  },
  {
   "cell_type": "code",
   "execution_count": 3,
   "metadata": {},
   "outputs": [],
   "source": [
    "import random"
   ]
  },
  {
   "cell_type": "code",
   "execution_count": 12,
   "metadata": {},
   "outputs": [
    {
     "name": "stdout",
     "output_type": "stream",
     "text": [
      "tahmini azalt , 1\n"
     ]
    }
   ],
   "source": [
    "random.randint(1,100)\n",
    "a = random.randint(1,100)\n",
    "sayac = 0 \n",
    "\n",
    "while True:\n",
    "    x = int(input(\"lutfen bir sayi girniz\"))\n",
    "    sayac += 1\n",
    "    if x < a:\n",
    "        print(f\"tahmini arttir , {sayac}  \")\n",
    "    elif x > a :\n",
    "        print(f\"tahmini azalt , {sayac}\")\n",
    "    else :\n",
    "        sayac == 3 \n",
    "        print(\"hakkiniz doldu\")\n",
    "    break\n",
    "\n"
   ]
  },
  {
   "cell_type": "code",
   "execution_count": 21,
   "metadata": {},
   "outputs": [
    {
     "name": "stdout",
     "output_type": "stream",
     "text": [
      "keliemniz hazirlanmis ,kavak\n"
     ]
    }
   ],
   "source": [
    "x = input(\"lutfen bir kelime giriniz \")\n",
    "\n",
    "ters_kelime = x[::-1]\n",
    "\n",
    "if x == ters_kelime:\n",
    "    print(f\"keliemniz hazirlanmis ,{x}\")\n",
    "else:\n",
    "    print(f\"degildir {x}\")\n"
   ]
  },
  {
   "cell_type": "code",
   "execution_count": 5,
   "metadata": {},
   "outputs": [
    {
     "name": "stdout",
     "output_type": "stream",
     "text": [
      "tebrikler kazandiniz\n"
     ]
    }
   ],
   "source": [
    "kullanici = input(\"lutfen adinizi giriniz\")\n",
    "kullanici2 = int(input(\"lutfen yasinizi giriniz\"))\n",
    "\n",
    "if kullanici2 < 50 :\n",
    "    print(f\"sevgili {kullanici},bu {kullanici2} araligini kabul edemiyoruz\")\n",
    "else:\n",
    "    print(\"tebrikler kazandiniz\")"
   ]
  },
  {
   "cell_type": "code",
   "execution_count": 6,
   "metadata": {},
   "outputs": [
    {
     "name": "stdout",
     "output_type": "stream",
     "text": [
      "325.0\n"
     ]
    }
   ],
   "source": [
    "toplam_tutar = 0 \n",
    "\n",
    "while True:\n",
    "    urun_adi = input(\"lutfen urun adini giriniz\")\n",
    "    if urun_adi == \"q\":\n",
    "        break\n",
    "    urun_miktari = int(input(\"lutfen almak istediginiz miktari giriniz\"))\n",
    "    urun_fiyati = float(input(\"lutfen urun fiyatini giriniz\"))\n",
    "\n",
    "    toplam_tutar += urun_miktari * urun_fiyati\n",
    "print(f\"{toplam_tutar}\")"
   ]
  },
  {
   "cell_type": "code",
   "execution_count": null,
   "metadata": {},
   "outputs": [],
   "source": [
    "Döviz Dönüştürücü:\n",
    "Kullanıcıdan döviz türü ve miktarını alarak, belirli bir döviz kuru üzerinden TL'ye çevirir."
   ]
  },
  {
   "cell_type": "code",
   "execution_count": 2,
   "metadata": {},
   "outputs": [
    {
     "name": "stdout",
     "output_type": "stream",
     "text": [
      "tutar 4640\n",
      "tutar 460\n",
      "tutar 1090900\n",
      "tutar 10000\n",
      "tutar 6900\n",
      "tutar 15780\n"
     ]
    }
   ],
   "source": [
    "dolar = 30 \n",
    "euro = 35\n",
    "while True:\n",
    "    a = input(\"lutfen paranizin turunu giriniz \")\n",
    "    a_2 = int(input(\"para miktarini giriniz\"))\n",
    "\n",
    "    if a == dolar :\n",
    "        print(f\"girdiniz miktar {a_2 * 30}, tl degerindedir\")  \n",
    "    elif a == euro :\n",
    "        print(f\"girdiniz tutar {a_2 * 35}\")\n",
    "    else :\n",
    "        print(f\"tutar {a_2 * 20}\")\n"
   ]
  },
  {
   "cell_type": "code",
   "execution_count": null,
   "metadata": {},
   "outputs": [],
   "source": [
    "Enerji Tüketimi Hesaplayıcı:\n",
    "Kullanıcıdan cihazın güç tüketimi (watt) ve kullanım süresini alarak enerji tüketimini hesaplar."
   ]
  },
  {
   "cell_type": "code",
   "execution_count": 2,
   "metadata": {},
   "outputs": [
    {
     "name": "stdout",
     "output_type": "stream",
     "text": [
      "sadece sifreniz yanlistir\n",
      "sadece sifreniz yanlistir\n",
      "verdiginiz isim dogru fakat sifreniz yanlistir\n",
      "sadece sifreniz yanlistir\n",
      "3 deneme hakkiniz sonra ermistir\n"
     ]
    }
   ],
   "source": [
    "kullanici_adi = \"selahattin\"\n",
    "kullanici_sifre = 1234\n",
    "sayi = 0 \n",
    "while sayi <= 3:\n",
    "    \n",
    "\n",
    "    x = input(\"lutfen adinizi giriniz\")\n",
    "    x2 = int(input(\"lutfen 4 haneli sifrenizi giriniz\"))\n",
    "\n",
    "    if kullanici_adi == x and kullanici_sifre == x2:\n",
    "        print(\"hesaba giris yapabilirsiniz\")\n",
    "        break\n",
    "    elif kullanici_adi == x and kullanici_sifre != x2:\n",
    "        print(\"verdiginiz isim dogru fakat sifreniz yanlistir\")\n",
    "    elif kullanici_adi != x and kullanici_sifre == x2:\n",
    "        print(\"sadece sifreniz yanlistir\")\n",
    "\n",
    "    else :\n",
    "        print(\"girilen tum bilgiler yanlsitir lutfen tekrar deneyiniz \")\n",
    "\n",
    "       \n",
    "    sayi += 1\n",
    "print(\"3 deneme hakkiniz sonra ermistir\")\n",
    "    \n",
    "    \n",
    "        "
   ]
  },
  {
   "cell_type": "code",
   "execution_count": 8,
   "metadata": {},
   "outputs": [
    {
     "name": "stdout",
     "output_type": "stream",
     "text": [
      "None\n",
      "None\n",
      "None\n",
      "None\n",
      "None\n",
      "None\n",
      "None\n",
      "None\n"
     ]
    }
   ],
   "source": [
    "haftalik_gun = (\"pzt\", \"sali\", \"cars\", \"pers\", \"cuma\", \"cumartesi\", \"pazar\")\n",
    "haftalar_liste = []\n",
    "x = 0\n",
    "while x <= len(haftalik_gun):\n",
    "    x += 1 \n",
    "    print(haftalar_liste.append(haftalik_gun))"
   ]
  },
  {
   "cell_type": "code",
   "execution_count": 1,
   "metadata": {},
   "outputs": [
    {
     "name": "stdout",
     "output_type": "stream",
     "text": [
      "[1, 3, 5, 7, 9, 11, 13, 15, 17, 19, 21, 23, 25, 27, 29, 31, 33, 35, 37, 39, 41, 43, 45, 47, 49]\n",
      "[2, 4, 6, 8, 10, 12, 14, 16, 18, 20, 22, 24, 26, 28, 30, 32, 34, 36, 38, 40, 42, 44, 46, 48, 50]\n"
     ]
    }
   ],
   "source": [
    "\n",
    "cift = []\n",
    "tek = []\n",
    "\n",
    "\n",
    "for i in range(1,51):\n",
    "    if i % 2 == 0:\n",
    "        cift.append(i)\n",
    "    else:\n",
    "        tek.append(i)\n",
    "print(tek)\n",
    "print(cift)\n",
    "\n",
    "\n"
   ]
  },
  {
   "cell_type": "code",
   "execution_count": 5,
   "metadata": {},
   "outputs": [
    {
     "data": {
      "text/plain": [
       "[None,\n",
       " None,\n",
       " None,\n",
       " None,\n",
       " None,\n",
       " None,\n",
       " None,\n",
       " None,\n",
       " None,\n",
       " None,\n",
       " None,\n",
       " None,\n",
       " None,\n",
       " None,\n",
       " None,\n",
       " None,\n",
       " None,\n",
       " None,\n",
       " None,\n",
       " None,\n",
       " None,\n",
       " None,\n",
       " None,\n",
       " None,\n",
       " None]"
      ]
     },
     "execution_count": 5,
     "metadata": {},
     "output_type": "execute_result"
    }
   ],
   "source": [
    "[cift.append(i) for i in range(1,51) if i % 2 == 0]"
   ]
  },
  {
   "cell_type": "code",
   "execution_count": 12,
   "metadata": {},
   "outputs": [],
   "source": [
    "x = int(input(\"lutfen bir sayi giriniz \"))\n",
    "y = int(input(\"lutfen diger bir sayiyi giriniz \"))\n",
    "\n",
    "for i in list(range(x,y)):\n",
    "    print(x,y)\n",
    "\n"
   ]
  },
  {
   "cell_type": "code",
   "execution_count": 7,
   "metadata": {},
   "outputs": [
    {
     "name": "stdout",
     "output_type": "stream",
     "text": [
      "['selahattin']\n"
     ]
    }
   ],
   "source": [
    "name = \"selahattin\"\n",
    "\n",
    "liste = name.split(\" \")\n",
    "print(liste)"
   ]
  },
  {
   "cell_type": "code",
   "execution_count": 4,
   "metadata": {},
   "outputs": [
    {
     "ename": "SyntaxError",
     "evalue": "invalid syntax (3153282383.py, line 1)",
     "output_type": "error",
     "traceback": [
      "\u001b[0;36m  Cell \u001b[0;32mIn[4], line 1\u001b[0;36m\u001b[0m\n\u001b[0;31m    print(liste)( : -1)\u001b[0m\n\u001b[0m                  ^\u001b[0m\n\u001b[0;31mSyntaxError\u001b[0m\u001b[0;31m:\u001b[0m invalid syntax\n"
     ]
    }
   ],
   "source": []
  },
  {
   "cell_type": "code",
   "execution_count": 20,
   "metadata": {},
   "outputs": [
    {
     "name": "stdout",
     "output_type": "stream",
     "text": [
      "['selahattin doganoglu 25 yasinda ogrenci']\n",
      "['selahattin doganoglu 25 yasinda ogrenci']\n"
     ]
    }
   ],
   "source": [
    "adim = \"selahattin doganoglu 25 yasinda ogrenci\"\n",
    "liste_2 = adim.split(\"---\")\n",
    "print(liste_2)\n",
    "\n",
    "a = len(liste_2)\n",
    "x = 0 \n",
    "\n",
    "while a < len(liste_2):\n",
    "    print(adim)\n",
    "    a += 1\n",
    "print(liste_2)\n"
   ]
  },
  {
   "cell_type": "code",
   "execution_count": 22,
   "metadata": {},
   "outputs": [
    {
     "name": "stdout",
     "output_type": "stream",
     "text": [
      "['benim adim selahattin, izmire de yasiyorum']\n"
     ]
    }
   ],
   "source": [
    "name = \"benim adim selahattin, izmire de yasiyorum\"\n",
    "\n",
    "liste_5 = name.split(\"--\")\n",
    "print(liste_5)"
   ]
  },
  {
   "cell_type": "code",
   "execution_count": 3,
   "metadata": {},
   "outputs": [
    {
     "name": "stdout",
     "output_type": "stream",
     "text": [
      "5 ya kadarlan olan sayilarin toplami: 21\n"
     ]
    }
   ],
   "source": [
    "a = int(input(\"kullanici sayisi\"))\n",
    "\n",
    "toplam = 0 \n",
    "x = 0\n",
    "while x <= a :\n",
    "    x += 1\n",
    "    toplam += x \n",
    "print(f\"{a} ya kadarlan olan sayilarin toplami: {toplam}\")"
   ]
  },
  {
   "cell_type": "code",
   "execution_count": 23,
   "metadata": {},
   "outputs": [],
   "source": [
    "x = liste_5[0]"
   ]
  },
  {
   "cell_type": "code",
   "execution_count": null,
   "metadata": {},
   "outputs": [],
   "source": [
    "for "
   ]
  },
  {
   "cell_type": "code",
   "execution_count": 24,
   "metadata": {},
   "outputs": [
    {
     "name": "stdout",
     "output_type": "stream",
     "text": [
      "range(1, 51)\n"
     ]
    }
   ],
   "source": [
    "liste = range(1,51)\n",
    "print(liste)"
   ]
  },
  {
   "cell_type": "code",
   "execution_count": 32,
   "metadata": {},
   "outputs": [
    {
     "name": "stdout",
     "output_type": "stream",
     "text": [
      "1\n",
      "nothing\n",
      "2\n",
      "nothing\n",
      "3\n",
      "bing\n",
      "4\n",
      "nothing\n",
      "5\n",
      "nothing\n",
      "6\n",
      "bing\n",
      "7\n",
      "bang\n",
      "8\n",
      "nothing\n",
      "9\n",
      "bing\n",
      "10\n",
      "nothing\n",
      "11\n",
      "nothing\n",
      "12\n",
      "bing\n",
      "13\n",
      "nothing\n",
      "14\n",
      "bang\n",
      "15\n",
      "bing\n",
      "16\n",
      "nothing\n",
      "17\n",
      "nothing\n",
      "18\n",
      "bing\n",
      "19\n",
      "nothing\n",
      "20\n",
      "nothing\n",
      "21\n",
      "bingbang\n",
      "22\n",
      "nothing\n",
      "23\n",
      "nothing\n",
      "24\n",
      "bing\n",
      "25\n",
      "nothing\n",
      "26\n",
      "nothing\n",
      "27\n",
      "bing\n",
      "28\n",
      "bang\n",
      "29\n",
      "nothing\n",
      "30\n",
      "bing\n",
      "31\n",
      "nothing\n",
      "32\n",
      "nothing\n",
      "33\n",
      "bing\n",
      "34\n",
      "nothing\n",
      "35\n",
      "bang\n",
      "36\n",
      "bing\n",
      "37\n",
      "nothing\n",
      "38\n",
      "nothing\n",
      "39\n",
      "bing\n",
      "40\n",
      "nothing\n",
      "41\n",
      "nothing\n",
      "42\n",
      "bingbang\n",
      "43\n",
      "nothing\n",
      "44\n",
      "nothing\n",
      "45\n",
      "bing\n",
      "46\n",
      "nothing\n",
      "47\n",
      "nothing\n",
      "48\n",
      "bing\n",
      "49\n",
      "bang\n",
      "50\n",
      "nothing\n"
     ]
    }
   ],
   "source": [
    "for i in range(1,51):\n",
    "    print(i)\n",
    "    \n",
    "    if i % 7 == 0 and i % 3 == 0 :\n",
    "        print(\"bingbang\")\n",
    "    elif i % 3 == 0:\n",
    "        print(\"bing\")\n",
    "    elif i % 7 == 0:\n",
    "        print(\"bang\")\n",
    "    else :\n",
    "        print(\"nothing\")\n"
   ]
  },
  {
   "cell_type": "code",
   "execution_count": 45,
   "metadata": {},
   "outputs": [
    {
     "name": "stdout",
     "output_type": "stream",
     "text": [
      "kalin unlu sayisi 0\n",
      "ince unlu ayisi 3\n"
     ]
    }
   ],
   "source": [
    "alici = input(\"lutfen isminizi giriniz\")\n",
    "\n",
    "kalin_unlu = 0\n",
    "ince_unlu = 0\n",
    "\n",
    "for i in alici:   \n",
    "    if i in \"aıou\":\n",
    "        \n",
    "        kalin_unlu += 1 \n",
    "    elif i in \"eiöü\":\n",
    "        \n",
    "        ince_unlu += 1 \n",
    "\n",
    "\n",
    "print(f\"kalin unlu sayisi {kalin_unlu}\")\n",
    "print(f\"ince unlu ayisi {ince_unlu}\")"
   ]
  }
 ],
 "metadata": {
  "kernelspec": {
   "display_name": "Python 3",
   "language": "python",
   "name": "python3"
  },
  "language_info": {
   "codemirror_mode": {
    "name": "ipython",
    "version": 3
   },
   "file_extension": ".py",
   "mimetype": "text/x-python",
   "name": "python",
   "nbconvert_exporter": "python",
   "pygments_lexer": "ipython3",
   "version": "3.9.6"
  }
 },
 "nbformat": 4,
 "nbformat_minor": 2
}
