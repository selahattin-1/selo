{
 "cells": [
  {
   "cell_type": "markdown",
   "metadata": {},
   "source": [
    "# LOOPS"
   ]
  },
  {
   "cell_type": "markdown",
   "metadata": {},
   "source": [
    "## while"
   ]
  },
  {
   "cell_type": "code",
   "execution_count": null,
   "metadata": {},
   "outputs": [],
   "source": [
    "name"
   ]
  },
  {
   "cell_type": "code",
   "execution_count": null,
   "metadata": {},
   "outputs": [],
   "source": [
    "while 10 > 4: #çalıştırma sonsuz döngü. yada sen bilirsin. istersen çalıştır\n",
    "    print(\"bu döngü sonsuza kadar çalışır\")"
   ]
  },
  {
   "cell_type": "code",
   "execution_count": 10,
   "metadata": {},
   "outputs": [
    {
     "name": "stdout",
     "output_type": "stream",
     "text": [
      "bu döngü koşul sağlandıkçe çıktı verir.\n",
      "bu döngü koşul sağlandıkçe çıktı verir.\n",
      "bu döngü koşul sağlandıkçe çıktı verir.\n",
      "bu döngü koşul sağlandıkçe çıktı verir.\n",
      "bu döngü koşul sağlandıkçe çıktı verir.\n",
      "bu döngü koşul sağlandıkçe çıktı verir.\n"
     ]
    }
   ],
   "source": [
    "x = 4\n",
    "\n",
    "while 10 > x:\n",
    "    print(\"bu döngü koşul sağlandıkçe çıktı verir.\")\n",
    "    x = x + 1\n"
   ]
  },
  {
   "cell_type": "code",
   "execution_count": 12,
   "metadata": {},
   "outputs": [
    {
     "name": "stdout",
     "output_type": "stream",
     "text": [
      "1\n",
      "2\n",
      "3\n",
      "4\n",
      "5\n",
      "6\n",
      "7\n",
      "8\n",
      "9\n"
     ]
    }
   ],
   "source": [
    "x = 1\n",
    "\n",
    "while x < 10:\n",
    "    print(x)\n",
    "    x = x + 1"
   ]
  },
  {
   "cell_type": "code",
   "execution_count": null,
   "metadata": {},
   "outputs": [],
   "source": [
    "x = 1\n",
    "\n",
    "while x < 10:\n",
    "    print(x)\n",
    "\n",
    "x = x + 1 # işlem döngü içinde olmadığı için sonsuza gider."
   ]
  },
  {
   "cell_type": "code",
   "execution_count": 14,
   "metadata": {},
   "outputs": [
    {
     "name": "stdout",
     "output_type": "stream",
     "text": [
      "2\n",
      "3\n",
      "4\n",
      "5\n",
      "6\n",
      "7\n",
      "8\n",
      "9\n",
      "10\n"
     ]
    }
   ],
   "source": [
    "x = 1\n",
    "\n",
    "while x < 10:\n",
    "    x = x + 1\n",
    "    print(x)"
   ]
  },
  {
   "cell_type": "code",
   "execution_count": 15,
   "metadata": {},
   "outputs": [],
   "source": [
    "while False:\n",
    "    print(\"sanki çıktı vermeyecek gbi\")"
   ]
  },
  {
   "cell_type": "code",
   "execution_count": 16,
   "metadata": {},
   "outputs": [],
   "source": [
    "while \"\":\n",
    "    print(\"bu da çıktı vermez\")"
   ]
  },
  {
   "cell_type": "code",
   "execution_count": null,
   "metadata": {},
   "outputs": [],
   "source": [
    "while True: # çalıştırma sonsuz döngü\n",
    "    print(\"Bu kod her türlü çıktı verir. \")"
   ]
  },
  {
   "cell_type": "code",
   "execution_count": null,
   "metadata": {},
   "outputs": [],
   "source": [
    "# çalıştırma sonsuz döngü\n",
    "x = 1\n",
    "\n",
    "while True:\n",
    "    print(x, \"sonsuza gider mi acaba? \")\n",
    "    x = x + 1 # x += 1"
   ]
  },
  {
   "cell_type": "code",
   "execution_count": 21,
   "metadata": {},
   "outputs": [],
   "source": [
    "x = 5"
   ]
  },
  {
   "cell_type": "code",
   "execution_count": 22,
   "metadata": {},
   "outputs": [],
   "source": [
    "x *= 2 # x = x * 2"
   ]
  },
  {
   "cell_type": "code",
   "execution_count": 23,
   "metadata": {},
   "outputs": [
    {
     "data": {
      "text/plain": [
       "10"
      ]
     },
     "execution_count": 23,
     "metadata": {},
     "output_type": "execute_result"
    }
   ],
   "source": [
    "x"
   ]
  },
  {
   "cell_type": "code",
   "execution_count": 24,
   "metadata": {},
   "outputs": [],
   "source": [
    "x **= 2"
   ]
  },
  {
   "cell_type": "code",
   "execution_count": 25,
   "metadata": {},
   "outputs": [
    {
     "data": {
      "text/plain": [
       "100"
      ]
     },
     "execution_count": 25,
     "metadata": {},
     "output_type": "execute_result"
    }
   ],
   "source": [
    "x"
   ]
  },
  {
   "cell_type": "code",
   "execution_count": 26,
   "metadata": {},
   "outputs": [
    {
     "name": "stdout",
     "output_type": "stream",
     "text": [
      "while döngüsü condition False olana kadar çalışır\n"
     ]
    }
   ],
   "source": [
    "y = True\n",
    "\n",
    "while y:\n",
    "    print(\"while döngüsü condition False olana kadar çalışır\")\n",
    "    y = False"
   ]
  },
  {
   "cell_type": "code",
   "execution_count": null,
   "metadata": {},
   "outputs": [],
   "source": [
    "# çalıştırma\n",
    "y = True\n",
    "\n",
    "while y:\n",
    "    print(\"while döngüsü condition False olana kadar çalışır\")\n",
    "y = False"
   ]
  },
  {
   "cell_type": "code",
   "execution_count": 27,
   "metadata": {},
   "outputs": [
    {
     "name": "stdout",
     "output_type": "stream",
     "text": [
      "deneme: 1\n",
      "deneme: 2\n",
      "deneme: 3\n",
      "3 deneme hakkın bitti\n"
     ]
    }
   ],
   "source": [
    "x = 1\n",
    "\n",
    "while x <= 3:\n",
    "    print(f\"deneme: {x}\")\n",
    "    x += 1\n",
    "\n",
    "print(\"3 deneme hakkın bitti\")"
   ]
  },
  {
   "cell_type": "code",
   "execution_count": 28,
   "metadata": {},
   "outputs": [
    {
     "name": "stdout",
     "output_type": "stream",
     "text": [
      "deneme: 1\n",
      "3 deneme hakkın bitti\n",
      "deneme: 2\n",
      "3 deneme hakkın bitti\n",
      "deneme: 3\n",
      "3 deneme hakkın bitti\n"
     ]
    }
   ],
   "source": [
    "x = 1 \n",
    "\n",
    "while x <= 3:\n",
    "    print(f\"deneme: {x}\")\n",
    "    x += 1\n",
    "\n",
    "    print(\"3 deneme hakkın bitti\") # print döngü içinde olursa sürekli yazdırır. "
   ]
  },
  {
   "cell_type": "code",
   "execution_count": 29,
   "metadata": {},
   "outputs": [
    {
     "name": "stdout",
     "output_type": "stream",
     "text": [
      "1 in karesi: 1\n",
      "2 in karesi: 4\n",
      "3 in karesi: 9\n",
      "4 in karesi: 16\n",
      "5 in karesi: 25\n"
     ]
    }
   ],
   "source": [
    "x = 1\n",
    "\n",
    "while x <= 5:\n",
    "    print(f\"{x} in karesi: {x ** 2}\")\n",
    "    x += 1"
   ]
  },
  {
   "cell_type": "code",
   "execution_count": 31,
   "metadata": {},
   "outputs": [],
   "source": [
    "x = int(input(\"kilomu tahmin et. 10 luk deperler kullanabilirsin. \"))\n",
    "\n",
    "while x < 90:\n",
    "    print(f\"{x} yanlış tahmin. tekrar dene\")\n",
    "    x = int(input(\"kilomu tahmin et. 10 luk deperler kullanabilirsin. \"))"
   ]
  },
  {
   "cell_type": "code",
   "execution_count": 32,
   "metadata": {},
   "outputs": [
    {
     "name": "stdout",
     "output_type": "stream",
     "text": [
      "Girdiğiniz sayı : 44. Tahminini arttır\n",
      "Girdiğiniz sayı : 68. Tahminini azalt\n",
      "Girdiğiniz sayı : 50. Tahminini arttır\n",
      "Girdiğiniz sayı : 60. Tahminini azalt\n",
      "Girdiğiniz sayı : 60. Tahminini azalt\n",
      "Girdiğiniz sayı : 55. Doğru bildiniz. Tebrikler. \n"
     ]
    }
   ],
   "source": [
    "y = True\n",
    "\n",
    "aklımdaki_sayı = 55\n",
    "\n",
    "while y:\n",
    "\n",
    "    tahmin = int(input(\"1 ile 100 arasında bir sayı tahmin edin.\"))\n",
    "\n",
    "    if aklımdaki_sayı < tahmin:\n",
    "        print(f\"Girdiğiniz sayı : {tahmin}. Tahminini azalt\")\n",
    "\n",
    "    elif aklımdaki_sayı > tahmin:\n",
    "        print(f\"Girdiğiniz sayı : {tahmin}. Tahminini arttır\")\n",
    "\n",
    "    else:\n",
    "        print(f\"Girdiğiniz sayı : {tahmin}. Doğru bildiniz. Tebrikler. \")\n",
    "        y = False\n"
   ]
  },
  {
   "cell_type": "code",
   "execution_count": 35,
   "metadata": {},
   "outputs": [
    {
     "name": "stdout",
     "output_type": "stream",
     "text": [
      "Girdiğiniz sayı : 50. Tahminini arttır\n"
     ]
    }
   ],
   "source": [
    "y = True\n",
    "\n",
    "aklımdaki_sayı = 55\n",
    "\n",
    "sayaç = 0\n",
    "\n",
    "while y:\n",
    "\n",
    "    tahmin = int(input(\"1 ile 100 arasında bir sayı tahmin edin.\"))\n",
    "\n",
    "    sayaç += 1\n",
    "\n",
    "    if aklımdaki_sayı < tahmin:\n",
    "        print(f\"Girdiğiniz sayı : {tahmin}. Tahminini azalt\")\n",
    "\n",
    "    elif aklımdaki_sayı > tahmin:\n",
    "        print(f\"Girdiğiniz sayı : {tahmin}. Tahminini arttır\")\n",
    "\n",
    "    else:\n",
    "        print(f\"Girdiğiniz sayı : {tahmin}. {sayaç} kerede bildiniz. Tebrikler. \")\n",
    "\n",
    "        y = False"
   ]
  },
  {
   "cell_type": "code",
   "execution_count": null,
   "metadata": {},
   "outputs": [],
   "source": []
  },
  {
   "cell_type": "code",
   "execution_count": null,
   "metadata": {},
   "outputs": [],
   "source": [
    "y = True\n",
    "\n",
    "aklımdaki_sayı = 55\n",
    "\n",
    "sayaç = 0\n",
    "\n",
    "while y:\n",
    "\n",
    "    tahmin = int(input(\"1 ile 100 arasında bir sayı tahmin edin.\"))\n",
    "\n",
    "    sayaç += 1\n",
    "\n",
    "    if aklımdaki_sayı < tahmin:\n",
    "        print(f\"Girdiğiniz sayı : {tahmin}. Tahminini azalt\")\n",
    "\n",
    "    elif aklımdaki_sayı > tahmin:\n",
    "        print(f\"Girdiğiniz sayı : {tahmin}. Tahminini arttır\")\n",
    "\n",
    "    else:\n",
    "        print(f\"Girdiğiniz sayı : {tahmin}. {sayaç} kerede bildiniz. Tebrikler. \")\n",
    "\n",
    "        y = False\n",
    "\n",
    "    if sayaç == 5:\n",
    "        y = False"
   ]
  },
  {
   "cell_type": "code",
   "execution_count": 36,
   "metadata": {},
   "outputs": [],
   "source": [
    "sayılar_listesi = [1, 3, 4, 6, 5, 7]"
   ]
  },
  {
   "cell_type": "code",
   "execution_count": 37,
   "metadata": {},
   "outputs": [
    {
     "name": "stdout",
     "output_type": "stream",
     "text": [
      "1\n",
      "9\n",
      "16\n",
      "36\n",
      "25\n",
      "49\n"
     ]
    }
   ],
   "source": [
    "# listenin elemanlarının karesini döndüren while döngüsünü yazın\n",
    "x = 0\n",
    "\n",
    "sayılar_listesi = [1, 3, 4, 6, 5, 7]\n",
    "\n",
    "while x < len(sayılar_listesi):\n",
    "\n",
    "    print(sayılar_listesi[x] ** 2)\n",
    "\n",
    "    x += 1\n"
   ]
  },
  {
   "cell_type": "code",
   "execution_count": 38,
   "metadata": {},
   "outputs": [
    {
     "name": "stdout",
     "output_type": "stream",
     "text": [
      "[1]\n",
      "[1, 9]\n",
      "[1, 9, 16]\n",
      "[1, 9, 16, 36]\n",
      "[1, 9, 16, 36, 25]\n",
      "[1, 9, 16, 36, 25, 49]\n"
     ]
    }
   ],
   "source": [
    "# listenin elemanlarının karesini bir liste içinde döndüren while döngüsünü yazın\n",
    "\n",
    "sayılar_listesi = [1, 3, 4, 6, 5, 7]\n",
    "\n",
    "x = 0\n",
    "\n",
    "kareler_listesi = []\n",
    "\n",
    "while x < len(sayılar_listesi):\n",
    "\n",
    "    kareler_listesi.append(sayılar_listesi[x] ** 2)\n",
    "\n",
    "    x += 1\n",
    "\n",
    "    print(kareler_listesi)\n"
   ]
  },
  {
   "cell_type": "code",
   "execution_count": 39,
   "metadata": {},
   "outputs": [
    {
     "name": "stdout",
     "output_type": "stream",
     "text": [
      "[1, 9, 16, 36, 25, 49]\n"
     ]
    }
   ],
   "source": [
    "# listenin elemanlarının karesini bir liste içinde döndüren while döngüsünü yazın\n",
    "\n",
    "sayılar_listesi = [1, 3, 4, 6, 5, 7]\n",
    "\n",
    "x = 0\n",
    "\n",
    "kareler_listesi = []\n",
    "\n",
    "while x < len(sayılar_listesi):\n",
    "\n",
    "    kareler_listesi.append(sayılar_listesi[x] ** 2)\n",
    "\n",
    "    x += 1\n",
    "\n",
    "print(kareler_listesi)"
   ]
  },
  {
   "cell_type": "code",
   "execution_count": 44,
   "metadata": {},
   "outputs": [
    {
     "name": "stdout",
     "output_type": "stream",
     "text": [
      "[16, 36]\n"
     ]
    }
   ],
   "source": [
    "# listenin elemanlarından çift olanların karesini bir liste içinde döndüren while döngüsünü yazın\n",
    "\n",
    "sayılar_listesi = [1, 3, 4, 6, 5, 7]\n",
    "\n",
    "x = 0\n",
    "\n",
    "çiftlerin_kareler_listesi = []\n",
    "\n",
    "while x < len(sayılar_listesi):\n",
    "\n",
    "    if sayılar_listesi[x] % 2 == 0:\n",
    "\n",
    "        çiftlerin_kareler_listesi.append(sayılar_listesi[x] ** 2)\n",
    "\n",
    "    x += 1\n",
    "\n",
    "print(çiftlerin_kareler_listesi)"
   ]
  },
  {
   "cell_type": "markdown",
   "metadata": {},
   "source": [
    "[1,5,6,7,12,14,15,18,19,32,25] listesinin tek elemanlarının karesini, çift elemanlarının 2 katını liste halinde döndüren while döngüsünü yazın"
   ]
  },
  {
   "cell_type": "code",
   "execution_count": 11,
   "metadata": {},
   "outputs": [
    {
     "name": "stdout",
     "output_type": "stream",
     "text": [
      "2 tek eleamnlarin iki kati\n",
      "4 citflerin karesi\n",
      "6 tek eleamnlarin iki kati\n",
      "16 citflerin karesi\n",
      "10 tek eleamnlarin iki kati\n",
      "36 citflerin karesi\n",
      "14 tek eleamnlarin iki kati\n",
      "64 citflerin karesi\n",
      "18 tek eleamnlarin iki kati\n",
      "100 citflerin karesi\n",
      "22 tek eleamnlarin iki kati\n"
     ]
    }
   ],
   "source": [
    "liste = [1,5,6,7,12,14,15,18,19,32,25]\n",
    "\n",
    "x = 0\n",
    "tek_elemanlar = []\n",
    "cift_elemanlar = []\n",
    "\n",
    "while x  < len(liste):\n",
    "    x += 1\n",
    "    if x % 2 == 0 :\n",
    "        print(f\"{x ** 2} citflerin karesi\")\n",
    "       \n",
    "    else :\n",
    "        print(f\"{x * 2} tek eleamnlarin iki kati\")\n",
    "\n",
    "    \n",
    "    \n"
   ]
  },
  {
   "cell_type": "code",
   "execution_count": null,
   "metadata": {},
   "outputs": [],
   "source": []
  },
  {
   "cell_type": "code",
   "execution_count": null,
   "metadata": {},
   "outputs": [],
   "source": []
  },
  {
   "cell_type": "code",
   "execution_count": null,
   "metadata": {},
   "outputs": [],
   "source": []
  },
  {
   "cell_type": "code",
   "execution_count": null,
   "metadata": {},
   "outputs": [],
   "source": []
  },
  {
   "cell_type": "code",
   "execution_count": null,
   "metadata": {},
   "outputs": [],
   "source": []
  },
  {
   "cell_type": "code",
   "execution_count": null,
   "metadata": {},
   "outputs": [],
   "source": []
  },
  {
   "cell_type": "code",
   "execution_count": null,
   "metadata": {},
   "outputs": [],
   "source": []
  }
 ],
 "metadata": {
  "kernelspec": {
   "display_name": "base",
   "language": "python",
   "name": "python3"
  },
  "language_info": {
   "codemirror_mode": {
    "name": "ipython",
    "version": 3
   },
   "file_extension": ".py",
   "mimetype": "text/x-python",
   "name": "python",
   "nbconvert_exporter": "python",
   "pygments_lexer": "ipython3",
   "version": "3.9.6"
  }
 },
 "nbformat": 4,
 "nbformat_minor": 2
}
