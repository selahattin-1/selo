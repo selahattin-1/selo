{
 "cells": [
  {
   "cell_type": "code",
   "execution_count": 2,
   "metadata": {},
   "outputs": [
    {
     "name": "stdout",
     "output_type": "stream",
     "text": [
      "Hello world\n"
     ]
    }
   ],
   "source": [
    "print(\"Hello world\")"
   ]
  },
  {
   "cell_type": "code",
   "execution_count": 3,
   "metadata": {},
   "outputs": [
    {
     "name": "stdout",
     "output_type": "stream",
     "text": [
      "Hello world\n"
     ]
    }
   ],
   "source": [
    "a = print(\"Hello world\")"
   ]
  },
  {
   "cell_type": "code",
   "execution_count": 5,
   "metadata": {},
   "outputs": [
    {
     "name": "stdout",
     "output_type": "stream",
     "text": [
      "None\n"
     ]
    }
   ],
   "source": [
    "print(a)"
   ]
  },
  {
   "cell_type": "code",
   "execution_count": 7,
   "metadata": {},
   "outputs": [
    {
     "name": "stdout",
     "output_type": "stream",
     "text": [
      "\n"
     ]
    },
    {
     "data": {
      "text/plain": [
       "NoneType"
      ]
     },
     "execution_count": 7,
     "metadata": {},
     "output_type": "execute_result"
    }
   ],
   "source": [
    "type(print())"
   ]
  },
  {
   "cell_type": "code",
   "execution_count": 10,
   "metadata": {},
   "outputs": [],
   "source": [
    "def calculator_1(num1,opr,num2):\n",
    "\n",
    "    if opr == \"+\":\n",
    "        print(num1 + num2)\n",
    "    elif opr == \"-\":\n",
    "        print(num1 - num2)\n",
    "    elif opr == \"x\":\n",
    "        print(num1 * num2)\n",
    "    elif opr == \"/\":\n",
    "        print(num1 / num2)\n",
    "    else:\n",
    "        print(\"Hatalı operatör girişi.\")"
   ]
  },
  {
   "cell_type": "code",
   "execution_count": 11,
   "metadata": {},
   "outputs": [
    {
     "name": "stdout",
     "output_type": "stream",
     "text": [
      "13\n"
     ]
    }
   ],
   "source": [
    "calculator_1(5,\"+\",8)"
   ]
  },
  {
   "cell_type": "code",
   "execution_count": 12,
   "metadata": {},
   "outputs": [
    {
     "name": "stdout",
     "output_type": "stream",
     "text": [
      "13\n"
     ]
    }
   ],
   "source": [
    "b = calculator_1(5,\"+\",8)"
   ]
  },
  {
   "cell_type": "code",
   "execution_count": 14,
   "metadata": {},
   "outputs": [
    {
     "name": "stdout",
     "output_type": "stream",
     "text": [
      "None\n"
     ]
    }
   ],
   "source": [
    "print(b)"
   ]
  },
  {
   "cell_type": "code",
   "execution_count": null,
   "metadata": {},
   "outputs": [],
   "source": []
  },
  {
   "cell_type": "code",
   "execution_count": 15,
   "metadata": {},
   "outputs": [],
   "source": [
    "def calculator_2(num1,opr,num2):\n",
    "\n",
    "    if opr == \"+\":\n",
    "        return num1 + num2\n",
    "    elif opr == \"-\":\n",
    "        return num1 - num2\n",
    "    elif opr == \"x\":\n",
    "        return num1 * num2\n",
    "    elif opr == \"/\":\n",
    "        return num1 / num2\n",
    "    else:\n",
    "        return \"Hatalı operatör girişi.\""
   ]
  },
  {
   "cell_type": "code",
   "execution_count": 16,
   "metadata": {},
   "outputs": [
    {
     "data": {
      "text/plain": [
       "13"
      ]
     },
     "execution_count": 16,
     "metadata": {},
     "output_type": "execute_result"
    }
   ],
   "source": [
    "calculator_2(5,\"+\",8)"
   ]
  },
  {
   "cell_type": "code",
   "execution_count": 17,
   "metadata": {},
   "outputs": [],
   "source": [
    "c = calculator_2(5,\"+\",8)"
   ]
  },
  {
   "cell_type": "code",
   "execution_count": 18,
   "metadata": {},
   "outputs": [
    {
     "data": {
      "text/plain": [
       "13"
      ]
     },
     "execution_count": 18,
     "metadata": {},
     "output_type": "execute_result"
    }
   ],
   "source": [
    "c"
   ]
  },
  {
   "cell_type": "code",
   "execution_count": 19,
   "metadata": {},
   "outputs": [],
   "source": [
    "def my_len_1(x):\n",
    "\n",
    "    \"\"\"len fonksiyonunu beğenmediğim için kendi fonksiyonumu yazıyorum. Bu fonksiyon bir iterable ın uzunluğunu verir\"\"\"\n",
    "\n",
    "    sayaç = 0\n",
    "\n",
    "    for i in x:\n",
    "        sayaç += 1\n",
    "\n",
    "    print(sayaç)"
   ]
  },
  {
   "cell_type": "code",
   "execution_count": 21,
   "metadata": {},
   "outputs": [],
   "source": [
    "liste_1 = [1,2,3,4,5]"
   ]
  },
  {
   "cell_type": "code",
   "execution_count": 23,
   "metadata": {},
   "outputs": [
    {
     "name": "stdout",
     "output_type": "stream",
     "text": [
      "5\n"
     ]
    }
   ],
   "source": [
    "d = my_len_1(liste_1)"
   ]
  },
  {
   "cell_type": "code",
   "execution_count": 24,
   "metadata": {},
   "outputs": [
    {
     "ename": "TypeError",
     "evalue": "'NoneType' object cannot be interpreted as an integer",
     "output_type": "error",
     "traceback": [
      "\u001b[1;31m---------------------------------------------------------------------------\u001b[0m",
      "\u001b[1;31mTypeError\u001b[0m                                 Traceback (most recent call last)",
      "Cell \u001b[1;32mIn[24], line 1\u001b[0m\n\u001b[1;32m----> 1\u001b[0m \u001b[38;5;28mlist\u001b[39m(\u001b[38;5;28;43mrange\u001b[39;49m\u001b[43m(\u001b[49m\u001b[38;5;241;43m0\u001b[39;49m\u001b[43m,\u001b[49m\u001b[43md\u001b[49m\u001b[43m)\u001b[49m)\n",
      "\u001b[1;31mTypeError\u001b[0m: 'NoneType' object cannot be interpreted as an integer"
     ]
    }
   ],
   "source": [
    "list(range(0,d))"
   ]
  },
  {
   "cell_type": "code",
   "execution_count": 25,
   "metadata": {},
   "outputs": [],
   "source": [
    "def my_len_2(x):\n",
    "\n",
    "    \"\"\"len fonksiyonunu beğenmediğim için kendi fonksiyonumu yazıyorum. Bu fonksiyon bir iterable ın uzunluğunu verir\"\"\"\n",
    "\n",
    "    sayaç = 0\n",
    "\n",
    "    for i in x:\n",
    "        sayaç += 1\n",
    "\n",
    "    return sayaç"
   ]
  },
  {
   "cell_type": "code",
   "execution_count": 26,
   "metadata": {},
   "outputs": [],
   "source": [
    "e = my_len_2(liste_1)"
   ]
  },
  {
   "cell_type": "code",
   "execution_count": 27,
   "metadata": {},
   "outputs": [
    {
     "data": {
      "text/plain": [
       "5"
      ]
     },
     "execution_count": 27,
     "metadata": {},
     "output_type": "execute_result"
    }
   ],
   "source": [
    "e"
   ]
  },
  {
   "cell_type": "code",
   "execution_count": 28,
   "metadata": {},
   "outputs": [
    {
     "data": {
      "text/plain": [
       "[0, 1, 2, 3, 4]"
      ]
     },
     "execution_count": 28,
     "metadata": {},
     "output_type": "execute_result"
    }
   ],
   "source": [
    "list(range(0,e))"
   ]
  },
  {
   "cell_type": "code",
   "execution_count": null,
   "metadata": {},
   "outputs": [],
   "source": [
    "# iki kenar bilgisi bilinen dik üçgenin hipotenüsünü bulan fonk yazın. Daha sonra üçgenin çevresini hesaplayın"
   ]
  },
  {
   "cell_type": "code",
   "execution_count": 29,
   "metadata": {},
   "outputs": [],
   "source": [
    "def hypo1(x, y):\n",
    "\n",
    "    print((x ** 2 + y **2) ** 0.5 )"
   ]
  },
  {
   "cell_type": "code",
   "execution_count": 30,
   "metadata": {},
   "outputs": [
    {
     "name": "stdout",
     "output_type": "stream",
     "text": [
      "5.0\n"
     ]
    }
   ],
   "source": [
    "hypo1(3,4)"
   ]
  },
  {
   "cell_type": "code",
   "execution_count": 31,
   "metadata": {},
   "outputs": [
    {
     "name": "stdout",
     "output_type": "stream",
     "text": [
      "5.0\n"
     ]
    },
    {
     "ename": "TypeError",
     "evalue": "unsupported operand type(s) for +: 'int' and 'NoneType'",
     "output_type": "error",
     "traceback": [
      "\u001b[1;31m---------------------------------------------------------------------------\u001b[0m",
      "\u001b[1;31mTypeError\u001b[0m                                 Traceback (most recent call last)",
      "Cell \u001b[1;32mIn[31], line 1\u001b[0m\n\u001b[1;32m----> 1\u001b[0m çevre \u001b[38;5;241m=\u001b[39m \u001b[38;5;241;43m3\u001b[39;49m\u001b[43m \u001b[49m\u001b[38;5;241;43m+\u001b[39;49m\u001b[43m \u001b[49m\u001b[38;5;241;43m4\u001b[39;49m\u001b[43m \u001b[49m\u001b[38;5;241;43m+\u001b[39;49m\u001b[43m \u001b[49m\u001b[43mhypo1\u001b[49m\u001b[43m(\u001b[49m\u001b[38;5;241;43m3\u001b[39;49m\u001b[43m,\u001b[49m\u001b[38;5;241;43m4\u001b[39;49m\u001b[43m)\u001b[49m\n",
      "\u001b[1;31mTypeError\u001b[0m: unsupported operand type(s) for +: 'int' and 'NoneType'"
     ]
    }
   ],
   "source": [
    "çevre = 3 + 4 + hypo1(3,4)"
   ]
  },
  {
   "cell_type": "code",
   "execution_count": 32,
   "metadata": {},
   "outputs": [],
   "source": [
    "def hypo2(x, y):\n",
    "\n",
    "    return (x ** 2 + y **2) ** 0.5"
   ]
  },
  {
   "cell_type": "code",
   "execution_count": 33,
   "metadata": {},
   "outputs": [
    {
     "data": {
      "text/plain": [
       "5.0"
      ]
     },
     "execution_count": 33,
     "metadata": {},
     "output_type": "execute_result"
    }
   ],
   "source": [
    "hypo2(3,4)"
   ]
  },
  {
   "cell_type": "code",
   "execution_count": 35,
   "metadata": {},
   "outputs": [
    {
     "data": {
      "text/plain": [
       "12.0"
      ]
     },
     "execution_count": 35,
     "metadata": {},
     "output_type": "execute_result"
    }
   ],
   "source": [
    "çevre = 3 + 4 + hypo2(3,4)\n",
    "çevre"
   ]
  },
  {
   "cell_type": "code",
   "execution_count": 36,
   "metadata": {},
   "outputs": [
    {
     "name": "stdout",
     "output_type": "stream",
     "text": [
      "[1, 15, 5, 89, 45, 71, 45, 95, 61]\n",
      "[2, 36, 62, 52, 30, 56, 48]\n"
     ]
    }
   ],
   "source": [
    "sayılar_listesi = [1,15,2,36,5,89,45,62,52,71,30,56,45,95,61,48]\n",
    "\n",
    "odds = []\n",
    "evens = []\n",
    "\n",
    "for i in sayılar_listesi:\n",
    "\n",
    "    if i % 2 == 0:\n",
    "        evens.append(i)\n",
    "    else:\n",
    "        odds.append(i)\n",
    "\n",
    "print(odds)\n",
    "print(evens)"
   ]
  },
  {
   "cell_type": "code",
   "execution_count": 2,
   "metadata": {},
   "outputs": [
    {
     "name": "stdout",
     "output_type": "stream",
     "text": [
      "[2, 36, 62, 52, 30, 56, 48]\n",
      "[1, 15, 5, 89, 45, 71, 45, 95, 61]\n"
     ]
    }
   ],
   "source": [
    "sayılar_listesi = [1,15,2,36,5,89,45,62,52,71,30,56,45,95,61,48]\n",
    "\n",
    "cift_sayilar = []\n",
    "tek_sayilar =[]\n",
    "\n",
    "for i in sayılar_listesi:\n",
    "    if i % 2 :\n",
    "        cift_sayilar.append(i)\n",
    "    else:\n",
    "        tek_sayilar.append(i)\n",
    "print(tek_sayilar)\n",
    "print(cift_sayilar)\n"
   ]
  },
  {
   "cell_type": "code",
   "execution_count": 42,
   "metadata": {},
   "outputs": [],
   "source": [
    "def tek_çift_ayırıcı(liste, istek):\n",
    "    \n",
    "    \"\"\"Bu fonksiyon bir listenin elemanlarını sizin isteğinize göre tekler veya çiftler olarak ayırır.\"\"\"\n",
    "\n",
    "    odds = []\n",
    "    evens = []\n",
    "\n",
    "    for i in liste:\n",
    "\n",
    "        if i % 2 == 0:\n",
    "            evens.append(i)\n",
    "        else:\n",
    "            odds.append(i)\n",
    "\n",
    "    if istek == \"tek\":\n",
    "        return odds\n",
    "    elif istek == \"çift\":\n",
    "        return evens\n",
    "    else:\n",
    "        print(\"hatalı istek\")\n"
   ]
  },
  {
   "cell_type": "code",
   "execution_count": 39,
   "metadata": {},
   "outputs": [
    {
     "data": {
      "text/plain": [
       "[1, 15, 5, 89, 45, 71, 45, 95, 61]"
      ]
     },
     "execution_count": 39,
     "metadata": {},
     "output_type": "execute_result"
    }
   ],
   "source": [
    "tek_çift_ayırıcı(sayılar_listesi,\"tek\")"
   ]
  },
  {
   "cell_type": "code",
   "execution_count": 40,
   "metadata": {},
   "outputs": [
    {
     "data": {
      "text/plain": [
       "[2, 36, 62, 52, 30, 56, 48]"
      ]
     },
     "execution_count": 40,
     "metadata": {},
     "output_type": "execute_result"
    }
   ],
   "source": [
    "tek_çift_ayırıcı(sayılar_listesi,\"çift\")"
   ]
  },
  {
   "cell_type": "code",
   "execution_count": 41,
   "metadata": {},
   "outputs": [
    {
     "name": "stdout",
     "output_type": "stream",
     "text": [
      "hatalı istek\n"
     ]
    }
   ],
   "source": [
    "tek_çift_ayırıcı(sayılar_listesi,\"farketmez\")"
   ]
  },
  {
   "cell_type": "code",
   "execution_count": 43,
   "metadata": {},
   "outputs": [
    {
     "name": "stdout",
     "output_type": "stream",
     "text": [
      "hello world\n"
     ]
    }
   ],
   "source": [
    "print(\"hello world\")"
   ]
  },
  {
   "cell_type": "code",
   "execution_count": 44,
   "metadata": {},
   "outputs": [
    {
     "ename": "SyntaxError",
     "evalue": "'return' outside function (1324660243.py, line 1)",
     "output_type": "error",
     "traceback": [
      "\u001b[1;36m  Cell \u001b[1;32mIn[44], line 1\u001b[1;36m\u001b[0m\n\u001b[1;33m    return \"hello world\"\u001b[0m\n\u001b[1;37m    ^\u001b[0m\n\u001b[1;31mSyntaxError\u001b[0m\u001b[1;31m:\u001b[0m 'return' outside function\n"
     ]
    }
   ],
   "source": [
    "return \"hello world\""
   ]
  },
  {
   "cell_type": "code",
   "execution_count": 5,
   "metadata": {},
   "outputs": [],
   "source": [
    "def adın_kadar_kazan(isim):\n",
    "\n",
    "    \"\"\"Bu fonksiyon ismin içindeki sesli harfleri bulur\"\"\"\n",
    "\n",
    "    counter = 0\n",
    "\n",
    "    for i in isim.lower():\n",
    "\n",
    "        if i in \"aeiıüuoö\":\n",
    "            counter += 1\n",
    "\n",
    "    print(counter)"
   ]
  },
  {
   "cell_type": "code",
   "execution_count": 6,
   "metadata": {},
   "outputs": [
    {
     "name": "stdout",
     "output_type": "stream",
     "text": [
      "2\n"
     ]
    },
    {
     "ename": "TypeError",
     "evalue": "unsupported operand type(s) for *: 'NoneType' and 'int'",
     "output_type": "error",
     "traceback": [
      "\u001b[0;31m---------------------------------------------------------------------------\u001b[0m",
      "\u001b[0;31mTypeError\u001b[0m                                 Traceback (most recent call last)",
      "Cell \u001b[0;32mIn[6], line 1\u001b[0m\n\u001b[0;32m----> 1\u001b[0m \u001b[43madın_kadar_kazan\u001b[49m\u001b[43m(\u001b[49m\u001b[38;5;124;43m\"\u001b[39;49m\u001b[38;5;124;43mserhan\u001b[39;49m\u001b[38;5;124;43m\"\u001b[39;49m\u001b[43m)\u001b[49m\u001b[43m \u001b[49m\u001b[38;5;241;43m*\u001b[39;49m\u001b[43m \u001b[49m\u001b[38;5;241;43m1000\u001b[39;49m\n",
      "\u001b[0;31mTypeError\u001b[0m: unsupported operand type(s) for *: 'NoneType' and 'int'"
     ]
    }
   ],
   "source": [
    "adın_kadar_kazan(\"serhan\") * 1000"
   ]
  },
  {
   "cell_type": "code",
   "execution_count": 48,
   "metadata": {},
   "outputs": [],
   "source": [
    "def adın_kadar_kazan_2(isim):\n",
    "\n",
    "    \"\"\"Bu fonksiyon ismin içindeki sesli harfleri bulur\"\"\"\n",
    "\n",
    "    counter = 0\n",
    "\n",
    "    for i in isim.lower():\n",
    "\n",
    "        if i in \"aeiıüuoö\":\n",
    "            counter += 1\n",
    "\n",
    "    return counter"
   ]
  },
  {
   "cell_type": "code",
   "execution_count": 50,
   "metadata": {},
   "outputs": [
    {
     "data": {
      "text/plain": [
       "2000"
      ]
     },
     "execution_count": 50,
     "metadata": {},
     "output_type": "execute_result"
    }
   ],
   "source": [
    "adın_kadar_kazan_2(\"irem\") * 1000"
   ]
  },
  {
   "cell_type": "code",
   "execution_count": 59,
   "metadata": {},
   "outputs": [
    {
     "name": "stdout",
     "output_type": "stream",
     "text": [
      "153 sayısı armstrong bir sayıdır\n"
     ]
    }
   ],
   "source": [
    "sayı = input(\"bir sayı girin\")\n",
    "\n",
    "uzunluk = len(sayı)\n",
    "\n",
    "toplam = 0\n",
    "\n",
    "for i in sayı:\n",
    "\n",
    "    toplam += int(i) ** uzunluk\n",
    "\n",
    "if toplam == int(sayı):\n",
    "    print(f\"{sayı} sayısı armstrong bir sayıdır\")\n",
    "else:\n",
    "    print(f\"{sayı} sayısı armstrong sayı değildir\")\n",
    "\n"
   ]
  },
  {
   "cell_type": "code",
   "execution_count": 61,
   "metadata": {},
   "outputs": [
    {
     "data": {
      "text/plain": [
       "153"
      ]
     },
     "execution_count": 61,
     "metadata": {},
     "output_type": "execute_result"
    }
   ],
   "source": [
    "sum([int(i) ** uzunluk for i in sayı])\n",
    "\n",
    "    "
   ]
  },
  {
   "cell_type": "code",
   "execution_count": 68,
   "metadata": {},
   "outputs": [],
   "source": [
    "def find_armstrong(x):\n",
    "    \n",
    "    x = str(x)\n",
    "\n",
    "    uzunluk = len(x)\n",
    "\n",
    "    if int(x) == sum([int(i) ** uzunluk for i in x]):\n",
    "        print(f\"{x} sayısı armstrong bir sayıdır\")\n",
    "    else:\n",
    "        print(f\"{x} sayısı armstrong sayı değildir\")\n"
   ]
  },
  {
   "cell_type": "code",
   "execution_count": 70,
   "metadata": {},
   "outputs": [
    {
     "name": "stdout",
     "output_type": "stream",
     "text": [
      "407 sayısı armstrong bir sayıdır\n"
     ]
    }
   ],
   "source": [
    "find_armstrong(407)"
   ]
  },
  {
   "cell_type": "code",
   "execution_count": 73,
   "metadata": {},
   "outputs": [],
   "source": [
    "def find_armstrong_2(x):\n",
    "    \n",
    "    x = str(x)\n",
    "\n",
    "    uzunluk = len(x)\n",
    "\n",
    "    if int(x) == sum([int(i) ** uzunluk for i in x]):\n",
    "        return int(x)\n",
    "    "
   ]
  },
  {
   "cell_type": "code",
   "execution_count": 74,
   "metadata": {},
   "outputs": [
    {
     "data": {
      "text/plain": [
       "407"
      ]
     },
     "execution_count": 74,
     "metadata": {},
     "output_type": "execute_result"
    }
   ],
   "source": [
    "find_armstrong_2(407)"
   ]
  },
  {
   "cell_type": "code",
   "execution_count": 75,
   "metadata": {},
   "outputs": [],
   "source": [
    "find_armstrong_2(154)"
   ]
  },
  {
   "cell_type": "code",
   "execution_count": 92,
   "metadata": {},
   "outputs": [
    {
     "name": "stdout",
     "output_type": "stream",
     "text": [
      "CPU times: total: 51.8 s\n",
      "Wall time: 1min 18s\n"
     ]
    },
    {
     "data": {
      "text/plain": [
       "[1,\n",
       " 2,\n",
       " 3,\n",
       " 4,\n",
       " 5,\n",
       " 6,\n",
       " 7,\n",
       " 8,\n",
       " 9,\n",
       " 153,\n",
       " 370,\n",
       " 371,\n",
       " 407,\n",
       " 1634,\n",
       " 8208,\n",
       " 9474,\n",
       " 54748,\n",
       " 92727,\n",
       " 93084,\n",
       " 548834,\n",
       " 1741725,\n",
       " 4210818,\n",
       " 9800817,\n",
       " 9926315]"
      ]
     },
     "execution_count": 92,
     "metadata": {},
     "output_type": "execute_result"
    }
   ],
   "source": [
    "%%time\n",
    "result = []\n",
    "\n",
    "for i in range(1,10000001):\n",
    "    if find_armstrong_2(i) != None:\n",
    "        result.append(i)\n",
    "result"
   ]
  },
  {
   "cell_type": "code",
   "execution_count": 94,
   "metadata": {},
   "outputs": [
    {
     "name": "stdout",
     "output_type": "stream",
     "text": [
      "CPU times: total: 36.9 s\n",
      "Wall time: 43.1 s\n"
     ]
    },
    {
     "data": {
      "text/plain": [
       "[1,\n",
       " 2,\n",
       " 3,\n",
       " 4,\n",
       " 5,\n",
       " 6,\n",
       " 7,\n",
       " 8,\n",
       " 9,\n",
       " 153,\n",
       " 370,\n",
       " 371,\n",
       " 407,\n",
       " 1634,\n",
       " 8208,\n",
       " 9474,\n",
       " 54748,\n",
       " 92727,\n",
       " 93084,\n",
       " 548834,\n",
       " 1741725,\n",
       " 4210818,\n",
       " 9800817,\n",
       " 9926315]"
      ]
     },
     "execution_count": 94,
     "metadata": {},
     "output_type": "execute_result"
    }
   ],
   "source": [
    "%%time\n",
    "[i for i in range(1,10000001) if find_armstrong_2(i) != None]\n"
   ]
  },
  {
   "cell_type": "code",
   "execution_count": 82,
   "metadata": {},
   "outputs": [],
   "source": [
    "def find_armstrong_3(x):\n",
    "    \n",
    "    x = str(x)\n",
    "\n",
    "    uzunluk = len(x)\n",
    "\n",
    "    if int(x) == sum([int(i) ** uzunluk for i in x]):\n",
    "        return int(x)\n",
    "    else:\n",
    "        return f\"{x} armstrong değildir\""
   ]
  },
  {
   "cell_type": "code",
   "execution_count": 83,
   "metadata": {},
   "outputs": [
    {
     "data": {
      "text/plain": [
       "'154 armstrong değildir'"
      ]
     },
     "execution_count": 83,
     "metadata": {},
     "output_type": "execute_result"
    }
   ],
   "source": [
    "find_armstrong_3(154)"
   ]
  },
  {
   "cell_type": "code",
   "execution_count": null,
   "metadata": {},
   "outputs": [],
   "source": [
    "# prime number"
   ]
  },
  {
   "cell_type": "code",
   "execution_count": 14,
   "metadata": {},
   "outputs": [
    {
     "name": "stdout",
     "output_type": "stream",
     "text": [
      "17 sayimiz asal sayidir\n"
     ]
    }
   ],
   "source": [
    "x = int(input(\"lutfen bir deger giriniz\"))\n",
    "\n",
    "sonuc = []\n",
    "\n",
    "count = 0 \n",
    "\n",
    "if x > 1 :\n",
    "    for i in range (2,x):\n",
    "        if x % i == 0:\n",
    "            count += 1 \n",
    "    if count == 0 :\n",
    "        print(f\"{x} sayimiz asal sayidir\")\n",
    "        \n",
    "    else :\n",
    "        print(f\"{x} asal sayi degildir\")\n",
    "else:      \n",
    "    print(\"lutfen 1 den buyuk degerler giriniz\")"
   ]
  },
  {
   "cell_type": "markdown",
   "metadata": {},
   "source": [
    "#### otomatik asal olup olmadigini bulan bir fonksiyon yapmamiz gerek"
   ]
  },
  {
   "cell_type": "code",
   "execution_count": 32,
   "metadata": {},
   "outputs": [],
   "source": [
    "def asal_bulmaca(x):\n",
    "    \n",
    "    if x > 1 :\n",
    "        for i in range(2,x):\n",
    "            if x % i == 0:\n",
    "                print(f\"{x} asal sayidir\")\n",
    "                break\n",
    "        else:\n",
    "            print(f\"{x} asal degildir\")\n",
    "            \n",
    "    else :\n",
    "        print(\"1 den buyuk sayilar giriniz\")\n"
   ]
  },
  {
   "cell_type": "code",
   "execution_count": 37,
   "metadata": {},
   "outputs": [
    {
     "name": "stdout",
     "output_type": "stream",
     "text": [
      "87654 asal sayidir\n"
     ]
    }
   ],
   "source": [
    "asal_bulmaca(87654)"
   ]
  },
  {
   "cell_type": "code",
   "execution_count": null,
   "metadata": {},
   "outputs": [],
   "source": [
    "sonuc = []\n",
    "\n",
    "asal_bulmaca(range(2,200))\n"
   ]
  }
 ],
 "metadata": {
  "kernelspec": {
   "display_name": "base",
   "language": "python",
   "name": "python3"
  },
  "language_info": {
   "codemirror_mode": {
    "name": "ipython",
    "version": 3
   },
   "file_extension": ".py",
   "mimetype": "text/x-python",
   "name": "python",
   "nbconvert_exporter": "python",
   "pygments_lexer": "ipython3",
   "version": "3.9.6"
  }
 },
 "nbformat": 4,
 "nbformat_minor": 2
}
